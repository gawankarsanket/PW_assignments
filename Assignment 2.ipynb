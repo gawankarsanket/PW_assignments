{
 "cells": [
  {
   "cell_type": "code",
   "execution_count": 1,
   "id": "dc4ad5d0-fc4e-47fb-8e5d-2b5c448b6aca",
   "metadata": {},
   "outputs": [],
   "source": [
    "#Q1. How do you comment code in Python? What are the different types of comments?\n",
    "\n",
    "# using # for single line comments,  \"\"\"  \"\"\" (triple Quotes for multiline comments"
   ]
  },
  {
   "cell_type": "code",
   "execution_count": 2,
   "id": "afc3324b-46c3-429c-8b40-23178fedc30e",
   "metadata": {},
   "outputs": [],
   "source": [
    "#Q2. What are variables in Python? How do you declare and assign values to variables?\n",
    "\n",
    "# Variable that stores value, it could be integer type, string type,boolean type etc\n",
    "#eg  a=5  ,b='PWSkills'  c=True , d=3.14"
   ]
  },
  {
   "cell_type": "code",
   "execution_count": 3,
   "id": "d14424da-b300-4254-91df-6b241aa111a9",
   "metadata": {},
   "outputs": [],
   "source": [
    "#Q3. How do you convert one data type to another in Python?\n",
    "\n",
    "#Typecasting   say a='100' convert it into integer a=int(a)"
   ]
  },
  {
   "cell_type": "code",
   "execution_count": 14,
   "id": "bdb94c3e-77e4-4a38-9cfe-c3882613fa70",
   "metadata": {},
   "outputs": [],
   "source": [
    "#How do you write and execute a Python script from the command line?\n",
    "#when you have python script say ABC.py, then go the command line, navigate to the python folder and run the ABC.py file\n"
   ]
  },
  {
   "cell_type": "code",
   "execution_count": 19,
   "id": "12cd627b-df0b-41bc-82d8-6acc3b3f9977",
   "metadata": {},
   "outputs": [
    {
     "data": {
      "text/plain": [
       "[2, 3]"
      ]
     },
     "execution_count": 19,
     "metadata": {},
     "output_type": "execute_result"
    }
   ],
   "source": [
    "#Q5. Given a list my_list = [1, 2, 3, 4, 5], write the code to slice the list and obtain the sub-list [2, 3].\n",
    "\n",
    "my_list = [1, 2, 3, 4, 5]\n",
    "\n",
    "sub_list=my_list[1:3]\n",
    "sub_list\n"
   ]
  },
  {
   "cell_type": "code",
   "execution_count": 20,
   "id": "4bd4004e-ff91-497f-a340-c1ed86d6d8b4",
   "metadata": {},
   "outputs": [],
   "source": [
    "#Q6. What is a complex number in mathematics, and how is it represented in Python?\n",
    "#Number with real part and imaginary part.\n",
    "# point to remember in python imagninary path is denoted with j only no other letter.\n",
    "#Eg  1+3j , 100+34j etc"
   ]
  },
  {
   "cell_type": "code",
   "execution_count": 21,
   "id": "0dda905d-13ea-403e-aa18-3cfe1c7c7ee1",
   "metadata": {},
   "outputs": [],
   "source": [
    "#Q7. What is the correct way to declare a variable named age and assign the value 25 to it?\n",
    "age=25\n",
    "#there is no separate syntax to declare variable in python, we can create and assign value to it. Based on assigned\n",
    "#value python defines the type of variable. Although type can later be chaged using typecasting.\n"
   ]
  },
  {
   "cell_type": "code",
   "execution_count": 22,
   "id": "d45a859d-6bdc-4da9-aa31-92409427bf67",
   "metadata": {},
   "outputs": [
    {
     "data": {
      "text/plain": [
       "float"
      ]
     },
     "execution_count": 22,
     "metadata": {},
     "output_type": "execute_result"
    }
   ],
   "source": [
    "#Q8. Declare a variable named price and assign the value 9.99 to it. What data type does this variable\n",
    "#belong to?\n",
    "\n",
    "price=9.99  #float type\n",
    "type(price)"
   ]
  },
  {
   "cell_type": "code",
   "execution_count": 23,
   "id": "f6641c30-bf42-4db0-814f-98dabd90daba",
   "metadata": {},
   "outputs": [
    {
     "name": "stdout",
     "output_type": "stream",
     "text": [
      "Sanket Gawankar\n"
     ]
    }
   ],
   "source": [
    "#Q9. Create a variable named name and assign your full name to it as a string. How would you print the\n",
    "#value of this variable?\n",
    "name='Sanket Gawankar'\n",
    "print (name)"
   ]
  },
  {
   "cell_type": "code",
   "execution_count": 31,
   "id": "1560a625-4218-4edd-9a6d-18d2e3543758",
   "metadata": {},
   "outputs": [
    {
     "data": {
      "text/plain": [
       "'World'"
      ]
     },
     "execution_count": 31,
     "metadata": {},
     "output_type": "execute_result"
    }
   ],
   "source": [
    "#Q10. Given the string \"Hello, World!\", extract the substring \"World\".\n",
    "str=\"Hello, World!\"\n",
    "str[7:12]"
   ]
  },
  {
   "cell_type": "code",
   "execution_count": null,
   "id": "276e7963-701d-40ce-907b-9f9f4ad4e696",
   "metadata": {},
   "outputs": [],
   "source": [
    "#Q11. Create a variable named \"is_student\" and assign it a boolean value indicating whether you are\n",
    "#currently a student or not."
   ]
  }
 ],
 "metadata": {
  "kernelspec": {
   "display_name": "Python 3 (ipykernel)",
   "language": "python",
   "name": "python3"
  },
  "language_info": {
   "codemirror_mode": {
    "name": "ipython",
    "version": 3
   },
   "file_extension": ".py",
   "mimetype": "text/x-python",
   "name": "python",
   "nbconvert_exporter": "python",
   "pygments_lexer": "ipython3",
   "version": "3.10.8"
  }
 },
 "nbformat": 4,
 "nbformat_minor": 5
}
