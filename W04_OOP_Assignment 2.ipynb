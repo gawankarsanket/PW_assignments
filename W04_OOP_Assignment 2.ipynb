{
 "cells": [
  {
   "cell_type": "code",
   "execution_count": 17,
   "id": "4f26a0ed-4d10-4f9a-8091-b25242fca544",
   "metadata": {},
   "outputs": [
    {
     "ename": "SyntaxError",
     "evalue": "invalid syntax (4020123518.py, line 2)",
     "output_type": "error",
     "traceback": [
      "\u001b[0;36m  Cell \u001b[0;32mIn[17], line 2\u001b[0;36m\u001b[0m\n\u001b[0;31m    Q5. Can we create an instance of an abstract class? Explain your answer.\u001b[0m\n\u001b[0m            ^\u001b[0m\n\u001b[0;31mSyntaxError\u001b[0m\u001b[0;31m:\u001b[0m invalid syntax\n"
     ]
    }
   ],
   "source": [
    "\n",
    "\n",
    "\n",
    "Q4. How can we achieve data abstraction?\n",
    "Q5. Can we create an instance of an abstract class? Explain your answer."
   ]
  },
  {
   "cell_type": "code",
   "execution_count": null,
   "id": "040e59f0-8f2c-47eb-9329-d4eeab48b344",
   "metadata": {},
   "outputs": [],
   "source": [
    "#Q1. What is Abstraction in OOps? Explain with an example.\n",
    "\n",
    "\"\"\"\n",
    "Abstraction is a one of the fundamental concept in OOP , that focuses on representing essential features \n",
    "and behavior while hiding the unnecessary details from the user.\n",
    "The Abstract creates skeleton or blueprint methods, the derived classed then generatate their own version of methods \n",
    "based on these derived methods\n",
    "\n",
    "\"\"\"\n",
    "\n",
    "\n"
   ]
  },
  {
   "cell_type": "code",
   "execution_count": 13,
   "id": "283cb3c2-5004-495d-b008-222408e4a9c9",
   "metadata": {},
   "outputs": [],
   "source": [
    "import abc\n",
    "\n",
    "class employee:\n",
    "    \n",
    "    @abc.abstractclassmethod\n",
    "    def __init__(self,name,role):\n",
    "        self.name=name\n",
    "        self.role=role\n",
    "        pass\n",
    "\n",
    "\n",
    "class teacher(employee):\n",
    "    \n",
    "    def getdetails(self):\n",
    "        return self.name,self.role\n",
    "    \n",
    "class lab(employee):\n",
    "        def getdetails(self):\n",
    "            return self.name,self.role\n",
    "    \n",
    "class clerical(employee):\n",
    "    def getdetails(self):\n",
    "        return self.name,self.role\n",
    "    \n",
    "    "
   ]
  },
  {
   "cell_type": "code",
   "execution_count": 14,
   "id": "cb7fe0e2-c0ab-41e8-ba2d-dc740a318f05",
   "metadata": {},
   "outputs": [],
   "source": [
    "t1=teacher('Sanket','lecturer')\n",
    "l1=lab('Kiran','lab professor')\n",
    "c1=clerical('Hemant','clerk')\n"
   ]
  },
  {
   "cell_type": "code",
   "execution_count": 11,
   "id": "6c442d57-5974-454a-be27-7dabbcdee173",
   "metadata": {},
   "outputs": [
    {
     "data": {
      "text/plain": [
       "('Sanket', 'lecturer')"
      ]
     },
     "execution_count": 11,
     "metadata": {},
     "output_type": "execute_result"
    }
   ],
   "source": [
    "t1.getdetails()"
   ]
  },
  {
   "cell_type": "code",
   "execution_count": 15,
   "id": "24127a7b-d22c-42cc-8951-81383578a31f",
   "metadata": {},
   "outputs": [
    {
     "data": {
      "text/plain": [
       "('Kiran', 'lab professor')"
      ]
     },
     "execution_count": 15,
     "metadata": {},
     "output_type": "execute_result"
    }
   ],
   "source": [
    "l1.getdetails()"
   ]
  },
  {
   "cell_type": "code",
   "execution_count": 16,
   "id": "d79038e1-c734-4db4-9e96-119b4faa7485",
   "metadata": {},
   "outputs": [
    {
     "data": {
      "text/plain": [
       "('Hemant', 'clerk')"
      ]
     },
     "execution_count": 16,
     "metadata": {},
     "output_type": "execute_result"
    }
   ],
   "source": [
    "c1.getdetails()"
   ]
  },
  {
   "cell_type": "code",
   "execution_count": 19,
   "id": "15b0bcd2-a4e7-4273-96da-87abf6cef9a8",
   "metadata": {},
   "outputs": [
    {
     "data": {
      "text/plain": [
       "'\\n Absstraction creates blueprint of methods and derived classed can use them and from  their own versions of methods\\n Encapusaltion hides the variable or method being used directly by the user keeping it safe from direct alteration by the user\\n It is inteded to use getter and setter methods to alter these encapusalted variables.\\n '"
      ]
     },
     "execution_count": 19,
     "metadata": {},
     "output_type": "execute_result"
    }
   ],
   "source": [
    "#Q2. Differentiate between Abstraction and Encapsulation. Explain with an example.\n",
    "\n",
    "\"\"\"\n",
    " Absstraction creates blueprint of methods and derived classed can use them and from  their own versions of methods\n",
    " Encapusaltion hides the variable or method being used directly by the user keeping it safe from direct alteration by the user\n",
    " It is inteded to use getter and setter methods to alter these encapusalted variables.\n",
    " \"\"\""
   ]
  },
  {
   "cell_type": "code",
   "execution_count": 20,
   "id": "8fb7c4c1-bdba-4862-8260-68c0282ee67a",
   "metadata": {},
   "outputs": [
    {
     "data": {
      "text/plain": [
       "'\\nThe abc module in Python stands for \"Abstract Base Classes.\" It provides a way to define abstract base classes\\n(ABCs) in Python. Abstract base classes are classes that are meant to be inherited from but not \\ninstantiated directly. They serve as templates or blueprints for subclasses to define common interfaces \\nand behavior.\\n\\n'"
      ]
     },
     "execution_count": 20,
     "metadata": {},
     "output_type": "execute_result"
    }
   ],
   "source": [
    "#Q3. What is abc module in python? Why is it used?\n",
    "\n",
    "\"\"\"\n",
    "The abc module in Python stands for \"Abstract Base Classes.\" It provides a way to define abstract base classes\n",
    "(ABCs) in Python. Abstract base classes are classes that are meant to be inherited from but not \n",
    "instantiated directly. They serve as templates or blueprints for subclasses to define common interfaces \n",
    "and behavior.\n",
    "\n",
    "\"\"\""
   ]
  },
  {
   "cell_type": "code",
   "execution_count": null,
   "id": "7c60a62b-fd0f-4bf7-b4c0-279feab5b7be",
   "metadata": {},
   "outputs": [],
   "source": [
    "# Q4. How can we achieve data abstraction?\n",
    "\n",
    "\"\"\"\n",
    "Data abstraction can be achieved in Python through the use of classes and objects. \n",
    "\n",
    "Define a class: Create a class that represents the abstract data type or entity you want to abstract.\n",
    "\n",
    "Encapsulate data: Encapsulate the data within the class by defining attributes or properties. \n",
    "These attributes should be declared as private or protected to restrict direct access from outside the class.\n",
    "\n",
    "Provide getter method: also known as accessor methods, to access the encapsulated data. \n",
    "These methods provide controlled access to the internal data and allow users to retrieve the values.\n",
    "\n",
    "Provide setter methods: also known as mutator methods , to modify the encapsulated data.\n",
    "These methods provide controlled ways to update or modify the values of the attributes.\n",
    "\n",
    "By following these steps, you can achieve data abstraction by providing controlled access to the internal data \n",
    "of a class. Users of the class interact with the data through the defined methods, without needing to know \n",
    "the underlying implementation details.\n",
    "\"\"\"\n",
    "\n",
    "\n",
    "\n",
    "\n"
   ]
  },
  {
   "cell_type": "code",
   "execution_count": 21,
   "id": "38c694ac-d94e-4dee-af2d-af4d961d473d",
   "metadata": {},
   "outputs": [],
   "source": [
    "\n",
    "class BankAccount:\n",
    "    def __init__(self, account_number, balance):\n",
    "        self.__account_number = account_number  # Private attribute\n",
    "        self.__balance = balance  # Private attribute\n",
    "\n",
    "    def get_account_number(self):\n",
    "        return self.__account_number\n",
    "\n",
    "    def get_balance(self):\n",
    "        return self.__balance\n",
    "\n",
    "    def deposit(self, amount):\n",
    "        self.__balance += amount\n",
    "\n",
    "    def withdraw(self, amount):\n",
    "        if amount <= self.__balance:\n",
    "            self.__balance -= amount\n",
    "        else:\n",
    "            print(\"Insufficient balance\")\n",
    "\n",
    "\n",
    "\n",
    "\n"
   ]
  },
  {
   "cell_type": "code",
   "execution_count": 23,
   "id": "21e99e5d-3170-46af-8e00-1fa4e6f9f5a3",
   "metadata": {},
   "outputs": [],
   "source": [
    "a1 = BankAccount(\"1122334455\", 1000)\n",
    "\n"
   ]
  },
  {
   "cell_type": "code",
   "execution_count": 24,
   "id": "606055e3-cc54-4042-b845-7b15c04e47cb",
   "metadata": {},
   "outputs": [
    {
     "data": {
      "text/plain": [
       "'1122334455'"
      ]
     },
     "execution_count": 24,
     "metadata": {},
     "output_type": "execute_result"
    }
   ],
   "source": [
    "a1.get_account_number()"
   ]
  },
  {
   "cell_type": "code",
   "execution_count": 25,
   "id": "d840f09b-a31f-4050-92b0-4a089ba9e207",
   "metadata": {},
   "outputs": [
    {
     "data": {
      "text/plain": [
       "1000"
      ]
     },
     "execution_count": 25,
     "metadata": {},
     "output_type": "execute_result"
    }
   ],
   "source": [
    "a1.get_balance()"
   ]
  },
  {
   "cell_type": "code",
   "execution_count": 27,
   "id": "9535d358-5493-407a-8ac4-e2aa5a453aea",
   "metadata": {},
   "outputs": [
    {
     "data": {
      "text/plain": [
       "2000"
      ]
     },
     "execution_count": 27,
     "metadata": {},
     "output_type": "execute_result"
    }
   ],
   "source": [
    "a1.deposit(500)\n",
    "a1.get_balance()"
   ]
  },
  {
   "cell_type": "code",
   "execution_count": 28,
   "id": "70034d2e-3abc-4280-950d-a48908e1bd06",
   "metadata": {},
   "outputs": [],
   "source": [
    "a1.withdraw(300)"
   ]
  },
  {
   "cell_type": "code",
   "execution_count": 29,
   "id": "7a3b1134-5f1d-4e5f-b6ed-4183cbfc8634",
   "metadata": {},
   "outputs": [
    {
     "data": {
      "text/plain": [
       "1700"
      ]
     },
     "execution_count": 29,
     "metadata": {},
     "output_type": "execute_result"
    }
   ],
   "source": [
    "a1.get_balance()"
   ]
  },
  {
   "cell_type": "code",
   "execution_count": 30,
   "id": "e467d7ac-4e16-4d57-817a-3c8423d32565",
   "metadata": {},
   "outputs": [
    {
     "name": "stdout",
     "output_type": "stream",
     "text": [
      "Insufficient balance\n"
     ]
    }
   ],
   "source": [
    "a1.withdraw(2000)"
   ]
  },
  {
   "cell_type": "code",
   "execution_count": 31,
   "id": "5b227b9d-53f6-4f51-81d5-fdcd10c6889d",
   "metadata": {},
   "outputs": [
    {
     "data": {
      "text/plain": [
       "1700"
      ]
     },
     "execution_count": 31,
     "metadata": {},
     "output_type": "execute_result"
    }
   ],
   "source": [
    "a1.get_balance()"
   ]
  },
  {
   "cell_type": "code",
   "execution_count": null,
   "id": "48354777-ff51-4f57-9fff-2247af5af95c",
   "metadata": {},
   "outputs": [],
   "source": [
    "# Q5. Can we create an instance of an abstract class? Explain your answer.\n",
    "\n",
    "\n",
    "\"\"\"\n",
    "\n",
    "No, we cannot create an instance of an abstract class in Python. An abstract class is a class that is meant to be\n",
    "inherited from and serves as a blueprint or template for subclasses. It contains one or more abstract methods,\n",
    "which are methods without any implementation. The purpose of an abstract class is to define a common interface \n",
    "or behavior that its subclasses must implement.\n",
    "\n",
    "Attempting to create an instance of an abstract class directly will result in a TypeError. \n",
    "The abstract class itself is incomplete and not intended to be instantiated because it lacks the implementation \n",
    "of one or more abstract methods.\n",
    "\"\"\"\n",
    "\n",
    "\n"
   ]
  },
  {
   "cell_type": "code",
   "execution_count": 32,
   "id": "a1a7f7ca-776f-4560-99c3-a3594f1eebad",
   "metadata": {},
   "outputs": [],
   "source": [
    "from  abc import ABC,abstractclassmethod\n",
    "class shape(ABC):\n",
    "    @abc.abstractclassmethod\n",
    "    def area(self):\n",
    "        pass\n",
    "\n",
    "class circle(shape):\n",
    "    \n",
    "    def __init__(self,radius):\n",
    "        self.radius=radius\n",
    "    \n",
    "    def area(self):\n",
    "        return 3.14*self.radius*self.radius"
   ]
  },
  {
   "cell_type": "code",
   "execution_count": 33,
   "id": "91b156dc-70ed-4b51-a55c-032a26c935eb",
   "metadata": {},
   "outputs": [
    {
     "ename": "TypeError",
     "evalue": "Can't instantiate abstract class shape with abstract method area",
     "output_type": "error",
     "traceback": [
      "\u001b[0;31m---------------------------------------------------------------------------\u001b[0m",
      "\u001b[0;31mTypeError\u001b[0m                                 Traceback (most recent call last)",
      "Cell \u001b[0;32mIn[33], line 1\u001b[0m\n\u001b[0;32m----> 1\u001b[0m s\u001b[38;5;241m=\u001b[39m\u001b[43mshape\u001b[49m\u001b[43m(\u001b[49m\u001b[43m)\u001b[49m\n",
      "\u001b[0;31mTypeError\u001b[0m: Can't instantiate abstract class shape with abstract method area"
     ]
    }
   ],
   "source": [
    "s=shape()"
   ]
  },
  {
   "cell_type": "code",
   "execution_count": null,
   "id": "b6bd58f1-6ccd-49bc-9691-248dfbd4f846",
   "metadata": {},
   "outputs": [],
   "source": []
  }
 ],
 "metadata": {
  "kernelspec": {
   "display_name": "Python 3 (ipykernel)",
   "language": "python",
   "name": "python3"
  },
  "language_info": {
   "codemirror_mode": {
    "name": "ipython",
    "version": 3
   },
   "file_extension": ".py",
   "mimetype": "text/x-python",
   "name": "python",
   "nbconvert_exporter": "python",
   "pygments_lexer": "ipython3",
   "version": "3.10.8"
  }
 },
 "nbformat": 4,
 "nbformat_minor": 5
}
