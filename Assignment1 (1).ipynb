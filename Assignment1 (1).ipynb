{
 "cells": [
  {
   "cell_type": "code",
   "execution_count": 1,
   "id": "141a595f-7589-4575-b680-87b4a3e8e1b2",
   "metadata": {},
   "outputs": [],
   "source": [
    "#Q1\n",
    "str='SANKET'\n",
    "lst=[1,2,3,'Sanket']\n",
    "flt=3.14\n",
    "tpl=('DS','Python','SQL')\n",
    "\n",
    "vrbl=['SANKET',[1,2,3,'Sanket'],3.14,('DS','Python','SQL')]"
   ]
  },
  {
   "cell_type": "code",
   "execution_count": 6,
   "id": "af1a68fd-2c26-4a92-9189-684e6249e3ec",
   "metadata": {},
   "outputs": [
    {
     "data": {
      "text/plain": [
       "['SANKET', [1, 2, 3, 'Sanket'], 3.14, ('DS', 'Python', 'SQL')]"
      ]
     },
     "execution_count": 6,
     "metadata": {},
     "output_type": "execute_result"
    }
   ],
   "source": [
    "vrbl"
   ]
  },
  {
   "cell_type": "code",
   "execution_count": 15,
   "id": "c77ed58f-e5c1-4fd4-a5e9-47bb575ca1bf",
   "metadata": {},
   "outputs": [
    {
     "name": "stdout",
     "output_type": "stream",
     "text": [
      "<class 'str'> <class 'str'> <class 'list'> <class 'int'>\n"
     ]
    }
   ],
   "source": [
    "#Q2\n",
    "var1=''  #string\n",
    "var2='[DS,ML,Python]'  #string\n",
    "var3=['DS','ML','Python']   #List\n",
    "var4=1  #integer\n",
    "\n",
    "print(type(var1),type(var2),type(var3),type(var4))"
   ]
  },
  {
   "cell_type": "code",
   "execution_count": 17,
   "id": "d1bbf12b-ed0c-4e40-a073-c7e96e1e16dd",
   "metadata": {},
   "outputs": [
    {
     "data": {
      "text/plain": [
       "list"
      ]
     },
     "execution_count": 17,
     "metadata": {},
     "output_type": "execute_result"
    }
   ],
   "source": [
    "type(var3)"
   ]
  },
  {
   "cell_type": "code",
   "execution_count": 18,
   "id": "18c88b92-c1b4-4767-a09f-dc7992596c55",
   "metadata": {},
   "outputs": [],
   "source": [
    "#Q3\n",
    "#  /    division operator\n",
    "#  %    modulus gives remainder after division -eg  11%3 = 2\n",
    "# //    gives quotient portaion after division   eg 11//3 = 3\n",
    "# **  exponent, power of    eg. 2**4,  two to the power 4,  2**4 = 16\n"
   ]
  },
  {
   "cell_type": "code",
   "execution_count": 1,
   "id": "572b11b9-54a9-4c14-b91d-fa1cbfb4fadd",
   "metadata": {},
   "outputs": [],
   "source": [
    "#Q4\n",
    "lst4=['SANKET',[1,2,3,'Sanket'],3.14,('DS','Python','SQL'),True,{'name':'Sanket','age':36},'ABC',220,False,10,'PQR']"
   ]
  },
  {
   "cell_type": "code",
   "execution_count": 2,
   "id": "398bb8e3-ce90-4485-9861-a4e0f1512b05",
   "metadata": {},
   "outputs": [
    {
     "data": {
      "text/plain": [
       "['SANKET',\n",
       " [1, 2, 3, 'Sanket'],\n",
       " 3.14,\n",
       " ('DS', 'Python', 'SQL'),\n",
       " True,\n",
       " {'name': 'Sanket', 'age': 36},\n",
       " 'ABC',\n",
       " 220,\n",
       " False,\n",
       " 10,\n",
       " 'PQR']"
      ]
     },
     "execution_count": 2,
     "metadata": {},
     "output_type": "execute_result"
    }
   ],
   "source": [
    "lst4"
   ]
  },
  {
   "cell_type": "code",
   "execution_count": 15,
   "id": "c6a5b4a0-11e2-456d-bc4b-a2d2428ac77a",
   "metadata": {},
   "outputs": [
    {
     "name": "stdout",
     "output_type": "stream",
     "text": [
      "SANKET is <class 'str'>\n",
      "[1, 2, 3, 'Sanket'] is <class 'list'>\n",
      "3.14 is <class 'float'>\n",
      "('DS', 'Python', 'SQL') is <class 'tuple'>\n",
      "True is <class 'bool'>\n",
      "{'name': 'Sanket', 'age': 36} is <class 'dict'>\n",
      "ABC is <class 'str'>\n",
      "220 is <class 'int'>\n",
      "False is <class 'bool'>\n",
      "10 is <class 'int'>\n",
      "PQR is <class 'str'>\n"
     ]
    }
   ],
   "source": [
    "for i in lst4:\n",
    "  #  print(\" %s is %s \"%(i,type(i)))\n",
    "     print(\"{} is {}\".format(i,type(i)))\n",
    "    \n",
    "    "
   ]
  },
  {
   "cell_type": "code",
   "execution_count": null,
   "id": "9f649ba0-07f2-4128-8e78-e1e66be6d157",
   "metadata": {},
   "outputs": [],
   "source": [
    "#Q5\n",
    "\n",
    "A=40\n",
    "B=5\n",
    "cntr=0\n",
    "i=A\n",
    "while i>0:\n",
    "    if i%B==0:\n",
    "        i=i-B\n",
    "        cntr+=1\n",
    "    else:\n",
    "        print (\"{} is not purely divisable by {}\".format(A,B))\n",
    "        \n",
    "\n",
    "print(\"{} is purely divisable by {} at {} many times\".format(A,B,cntr))\n",
    "\n",
    "    "
   ]
  },
  {
   "cell_type": "code",
   "execution_count": 32,
   "id": "d7610bb3-690d-40ce-ae1c-0f3b077dc8d0",
   "metadata": {},
   "outputs": [
    {
     "name": "stdout",
     "output_type": "stream",
     "text": [
      "[0, 1, 2, 3, 4, 5, 6, 7, 8, 9, 10, 11, 12, 13, 14, 15, 16, 17, 18, 19, 20, 21, 22, 23, 24]\n"
     ]
    }
   ],
   "source": [
    "#Q6\n",
    "\n",
    "numlist=[]\n",
    "for i in range(25):\n",
    "    numlist.append(i)\n",
    "\n",
    "print(numlist)\n",
    "\n"
   ]
  },
  {
   "cell_type": "code",
   "execution_count": 35,
   "id": "d01c9cae-ee01-40d1-bef6-fde41fc0add1",
   "metadata": {},
   "outputs": [
    {
     "name": "stdout",
     "output_type": "stream",
     "text": [
      "In total 9 numbers are divisible by 3 from numlist and are as below [0, 3, 6, 9, 12, 15, 18, 21, 24]\n"
     ]
    }
   ],
   "source": [
    "cnt=0\n",
    "lst_divisible_by3=[]\n",
    "for i in numlist:\n",
    "    if i%3==0:\n",
    "        cnt+=1\n",
    "        lst_divisible_by3.append(i)\n",
    "print(\"In total {} numbers are divisible by 3 from numlist and are as below {}\".format(cnt,lst_divisible_by3))\n"
   ]
  },
  {
   "cell_type": "code",
   "execution_count": 37,
   "id": "e5fae810-59cf-4220-a260-e46244e7bd93",
   "metadata": {},
   "outputs": [
    {
     "data": {
      "text/plain": [
       "'\\nMutable : variable for which value of its specific indexes can be changed.\\nImmutable : Variable for which values of indexes can not be changed.\\n\\nIn the \"list \"  we can update values at any index.\\neg  lst  =[100,\"abc\",3.14]\\nlst[0]=500\\nlst will updated to  [500,\"abc\",3.14]\\n\\n'"
      ]
     },
     "execution_count": 37,
     "metadata": {},
     "output_type": "execute_result"
    }
   ],
   "source": [
    "\"\"\"\n",
    "Mutable : variable for which value of its specific indexes can be changed.\n",
    "Immutable : Variable for which values of indexes can not be changed.\n",
    "\n",
    "In the \"list \"  we can update values at any index.\n",
    "eg  lst  =[100,\"abc\",3.14]\n",
    "lst[0]=500\n",
    "lst will updated to  [500,\"abc\",3.14]\n",
    "\n",
    "In the tuple we can not update values at any index\n",
    "eg\n",
    "tpl=(100,\"abc\",3.14)\n",
    "tpl[0]='PQR' this will give error\n",
    "\n",
    "\"\"\"\n",
    "\n"
   ]
  },
  {
   "cell_type": "code",
   "execution_count": 48,
   "id": "e0d69a3e-dd61-4e6d-914f-9b85ee3b41a9",
   "metadata": {},
   "outputs": [
    {
     "data": {
      "text/plain": [
       "['PQR', 'abc', 3.14]"
      ]
     },
     "execution_count": 48,
     "metadata": {},
     "output_type": "execute_result"
    }
   ],
   "source": [
    "lst  =[100,\"abc\",3.14]\n",
    "lst[0]='PQR'\n",
    "lst\n"
   ]
  },
  {
   "cell_type": "code",
   "execution_count": 46,
   "id": "2dcf1fa5-6ee7-4bbc-b925-36fa03190fd6",
   "metadata": {},
   "outputs": [
    {
     "ename": "TypeError",
     "evalue": "'tuple' object does not support item assignment",
     "output_type": "error",
     "traceback": [
      "\u001b[0;31m---------------------------------------------------------------------------\u001b[0m",
      "\u001b[0;31mTypeError\u001b[0m                                 Traceback (most recent call last)",
      "Cell \u001b[0;32mIn[46], line 2\u001b[0m\n\u001b[1;32m      1\u001b[0m tpl\u001b[38;5;241m=\u001b[39m(\u001b[38;5;241m100\u001b[39m,\u001b[38;5;124m\"\u001b[39m\u001b[38;5;124mabc\u001b[39m\u001b[38;5;124m\"\u001b[39m,\u001b[38;5;241m3.14\u001b[39m)\n\u001b[0;32m----> 2\u001b[0m \u001b[43mtpl\u001b[49m\u001b[43m[\u001b[49m\u001b[38;5;241;43m3\u001b[39;49m\u001b[43m]\u001b[49m\u001b[38;5;241m=\u001b[39m\u001b[38;5;241m500\u001b[39m\n",
      "\u001b[0;31mTypeError\u001b[0m: 'tuple' object does not support item assignment"
     ]
    }
   ],
   "source": [
    "tpl=(100,\"abc\",3.14)\n",
    "tpl[3]=500\n"
   ]
  },
  {
   "cell_type": "code",
   "execution_count": null,
   "id": "a583e251-8fb1-4e46-a329-1b2553aae5b7",
   "metadata": {},
   "outputs": [],
   "source": [
    "\n",
    "A=40\n",
    "B=5\n",
    "cntr=0\n",
    "while A>0:\n",
    "    if A%B==0:\n",
    "        A-= (A/B)\n",
    "        cntr+=1\n",
    "        print(A)\n",
    "    else:\n",
    "        print (\"{} is not purely divisable by {}\".format(A,B))\n",
    "        break\n",
    "\n",
    "print(\"{} is purely divisable by {} at {} many times\".format(A,B,cntr))\n"
   ]
  },
  {
   "cell_type": "code",
   "execution_count": null,
   "id": "9015a8d4-3185-4bd6-873f-7b1adefcc5c0",
   "metadata": {},
   "outputs": [],
   "source": []
  }
 ],
 "metadata": {
  "kernelspec": {
   "display_name": "Python 3 (ipykernel)",
   "language": "python",
   "name": "python3"
  },
  "language_info": {
   "codemirror_mode": {
    "name": "ipython",
    "version": 3
   },
   "file_extension": ".py",
   "mimetype": "text/x-python",
   "name": "python",
   "nbconvert_exporter": "python",
   "pygments_lexer": "ipython3",
   "version": "3.10.8"
  }
 },
 "nbformat": 4,
 "nbformat_minor": 5
}
