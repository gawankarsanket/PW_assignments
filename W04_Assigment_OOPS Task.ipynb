{
 "cells": [
  {
   "cell_type": "code",
   "execution_count": 1,
   "id": "2300c2e4-f8ef-4e06-ab7e-34bdc24ec5ab",
   "metadata": {},
   "outputs": [],
   "source": [
    "# Q1.  Create a vehicle class with an init method having instance variables as name_of_vehicle, max_speed\n",
    "#and average_of_vehicle."
   ]
  },
  {
   "cell_type": "code",
   "execution_count": 2,
   "id": "a6fa17d7-f201-487b-8f9f-9e89102d71ae",
   "metadata": {},
   "outputs": [],
   "source": [
    "class vehicle:\n",
    "    def __init__(self,name_of_vehicle,max_speed,average_of_vehicle):\n",
    "        self.name_of_vehicle=name_of_vehicle\n",
    "        self.max_speed=max_speed\n",
    "        self.average_of_vehicle=average_of_vehicle\n"
   ]
  },
  {
   "cell_type": "code",
   "execution_count": 3,
   "id": "70e0a691-bea5-446e-9fe5-bf92204fe400",
   "metadata": {},
   "outputs": [],
   "source": [
    "#Q2. Create a child class car from the vehicle class created in Que 1, which will inherit the vehicle class.\n",
    "#Create a method named seating_capacity which takes capacity as an argument and returns the name of\n",
    "#the vehicle and its seating capacity."
   ]
  },
  {
   "cell_type": "code",
   "execution_count": 36,
   "id": "6d89feb4-5b2c-453b-b1c2-3df86cd550a6",
   "metadata": {},
   "outputs": [],
   "source": [
    "class car(vehicle):\n",
    "    def seating_capacity(self,capacity):\n",
    "        self.seating_capacity=str(capacity)\n",
    "        return self.name_of_vehicle + ' has seating capacity of ' + self.seating_capacity + ' persons.'"
   ]
  },
  {
   "cell_type": "code",
   "execution_count": 37,
   "id": "e684822b-e43a-4360-9de7-c5a086fa49a6",
   "metadata": {},
   "outputs": [],
   "source": [
    "c1=car('Tata Nexon','180kmph','15kmpl')"
   ]
  },
  {
   "cell_type": "code",
   "execution_count": 38,
   "id": "ef3dc2ee-ad2f-4d9d-a707-bac44891e0bd",
   "metadata": {},
   "outputs": [
    {
     "data": {
      "text/plain": [
       "'Tata Nexon has seating capacity of 5 persons.'"
      ]
     },
     "execution_count": 38,
     "metadata": {},
     "output_type": "execute_result"
    }
   ],
   "source": [
    "c1.seating_capacity(5)"
   ]
  },
  {
   "cell_type": "code",
   "execution_count": 39,
   "id": "1b34e401-61f9-4f64-98a4-d3976c89f8d5",
   "metadata": {},
   "outputs": [
    {
     "data": {
      "text/plain": [
       "'Toyota Innova has seating capacity of 9 persons.'"
      ]
     },
     "execution_count": 39,
     "metadata": {},
     "output_type": "execute_result"
    }
   ],
   "source": [
    "c2=car('Toyota Innova','200kmph','12kmpl')\n",
    "c2.seating_capacity(9)"
   ]
  },
  {
   "cell_type": "code",
   "execution_count": 40,
   "id": "5c59e057-0171-419f-9efa-e48881fa6567",
   "metadata": {},
   "outputs": [],
   "source": [
    "#What is multiple inheritance? Write a python code to demonstrate multiple inheritance.\n",
    "\n",
    "# 1. Multilevel inheritance     class1 >> class2 >> Class3\n",
    "# 2. Multi class inheritance    class1>>class3  and   class2>>class3 "
   ]
  },
  {
   "cell_type": "code",
   "execution_count": 45,
   "id": "61108dd4-39ec-4731-b2c6-df2fe6795a93",
   "metadata": {},
   "outputs": [],
   "source": [
    "# 1. Multilevel inheritance     class1 >> class2 >> Class3\n",
    "class CLS1:\n",
    "    def test_cls1(self):\n",
    "        return \"hello from Class1\"\n",
    "\n",
    "class CLS2 (CLS1):\n",
    "    def test_cls2(self):\n",
    "        return \"hello from class2\"\n",
    "    \n",
    "class CLS3(CLS2):\n",
    "    pass"
   ]
  },
  {
   "cell_type": "code",
   "execution_count": 42,
   "id": "2590d221-cfc3-4555-bae8-5aec2f31be85",
   "metadata": {},
   "outputs": [],
   "source": [
    "c3=CLS3()"
   ]
  },
  {
   "cell_type": "code",
   "execution_count": 43,
   "id": "7a543195-f760-4620-9a50-3f78b76e8697",
   "metadata": {},
   "outputs": [
    {
     "data": {
      "text/plain": [
       "'hello from Class1'"
      ]
     },
     "execution_count": 43,
     "metadata": {},
     "output_type": "execute_result"
    }
   ],
   "source": [
    "c3.test_cls1()"
   ]
  },
  {
   "cell_type": "code",
   "execution_count": 44,
   "id": "af61b88f-9956-4ee6-ad56-a3baeaadc462",
   "metadata": {},
   "outputs": [
    {
     "data": {
      "text/plain": [
       "'hello from class2'"
      ]
     },
     "execution_count": 44,
     "metadata": {},
     "output_type": "execute_result"
    }
   ],
   "source": [
    "c3.test_cls2()"
   ]
  },
  {
   "cell_type": "code",
   "execution_count": 46,
   "id": "686a5f17-4232-4288-a291-f571a5150161",
   "metadata": {},
   "outputs": [],
   "source": [
    "# 2. Multi class inheritance    class1>>class3  and   class2>>class3 \n",
    "\n",
    "class CLS1:\n",
    "    def test_cls1(self):\n",
    "        return \"hello from Class1\"\n",
    "\n",
    "class CLS2:\n",
    "    def test_cls2(self):\n",
    "        return \"hello from class2\"\n",
    "    \n",
    "class CLS3(CLS1,CLS2):\n",
    "    pass\n"
   ]
  },
  {
   "cell_type": "code",
   "execution_count": 49,
   "id": "94626b28-a3a6-4ebf-a993-94292cfa6ad4",
   "metadata": {},
   "outputs": [
    {
     "data": {
      "text/plain": [
       "'hello from Class1'"
      ]
     },
     "execution_count": 49,
     "metadata": {},
     "output_type": "execute_result"
    }
   ],
   "source": [
    "c3=CLS3()\n",
    "c3.test_cls1()"
   ]
  },
  {
   "cell_type": "code",
   "execution_count": 50,
   "id": "ddc19337-6cc5-4d92-8d4e-4d9cbcb70495",
   "metadata": {},
   "outputs": [
    {
     "data": {
      "text/plain": [
       "'hello from class2'"
      ]
     },
     "execution_count": 50,
     "metadata": {},
     "output_type": "execute_result"
    }
   ],
   "source": [
    "c3.test_cls2()"
   ]
  },
  {
   "cell_type": "code",
   "execution_count": 51,
   "id": "ca0738dd-5efe-4cde-9090-99a0c7b0b072",
   "metadata": {},
   "outputs": [],
   "source": [
    "#Q4. What are getter and setter in python? Create a class and create a getter and a setter method in this\n",
    "#class.\n",
    "\n",
    "# This is in the concept of encapusation.  In OOP, the variable of class can be kept away from user \n",
    "# to access or alter the the values of it.  Istead write separate methods to get the value of it or set the value of it.\n"
   ]
  },
  {
   "cell_type": "code",
   "execution_count": 52,
   "id": "43158be4-361b-4da0-bf93-a6375f2eb897",
   "metadata": {},
   "outputs": [],
   "source": [
    "class account:\n",
    "    def __init__(self,uid,pwd):\n",
    "        self.__id=uid\n",
    "        self.__pwd=pwd\n",
    "    \n",
    "    def getter(self):\n",
    "        return self.__id, self.__pwd\n",
    "    \n",
    "    def setter(self,new_uid,new_pwd):\n",
    "        self.__id=new_uid\n",
    "        self.__pwd=new_pwd\n",
    "        return True\n",
    "\n"
   ]
  },
  {
   "cell_type": "code",
   "execution_count": 54,
   "id": "72912b91-e4c6-4831-8377-5216b36a3351",
   "metadata": {},
   "outputs": [],
   "source": [
    "sanket=account('sk','sk123')"
   ]
  },
  {
   "cell_type": "code",
   "execution_count": 55,
   "id": "caeab060-0029-44d1-a60e-c83a40dae6b3",
   "metadata": {},
   "outputs": [
    {
     "data": {
      "text/plain": [
       "('sk', 'sk123')"
      ]
     },
     "execution_count": 55,
     "metadata": {},
     "output_type": "execute_result"
    }
   ],
   "source": [
    "sanket.getter()"
   ]
  },
  {
   "cell_type": "code",
   "execution_count": 56,
   "id": "f4abcc69-f025-4f3c-a529-0d4f824b1d02",
   "metadata": {},
   "outputs": [
    {
     "data": {
      "text/plain": [
       "True"
      ]
     },
     "execution_count": 56,
     "metadata": {},
     "output_type": "execute_result"
    }
   ],
   "source": [
    "sanket.setter('sk','sk@0000')"
   ]
  },
  {
   "cell_type": "code",
   "execution_count": 57,
   "id": "8b620432-d136-4814-870e-64ce04322f60",
   "metadata": {},
   "outputs": [
    {
     "data": {
      "text/plain": [
       "('sk', 'sk@0000')"
      ]
     },
     "execution_count": 57,
     "metadata": {},
     "output_type": "execute_result"
    }
   ],
   "source": [
    "sanket.getter()"
   ]
  },
  {
   "cell_type": "code",
   "execution_count": null,
   "id": "23971c97-b138-4232-a90a-67b6b1dea71b",
   "metadata": {},
   "outputs": [],
   "source": [
    "# Q5.What is method overriding in python? Write a python code to demonstrate method overriding.\n",
    "\n",
    "\n",
    "# In the inheritance concept, the child inheritates  the methods from parent class.\n",
    "# if child class has any methods with same name as that of parent class, it will be iverride \n",
    "#the one recieved from Parent class\n",
    "\n",
    "#for example"
   ]
  },
  {
   "cell_type": "code",
   "execution_count": 3,
   "id": "8a9cd6e0-c2a6-4fb9-a1aa-c9ea0393fd99",
   "metadata": {},
   "outputs": [],
   "source": [
    "class parent:\n",
    "    def show(self):\n",
    "        return \"Hello from Parents\"\n",
    "    def bye(self):\n",
    "        return \"GoodBye\"\n",
    "    \n",
    "class child(parent):\n",
    "    def show(self):\n",
    "        return \"Hello from Child\""
   ]
  },
  {
   "cell_type": "code",
   "execution_count": 4,
   "id": "d11e4dd7-2709-457d-a0ac-f786b36cfb8b",
   "metadata": {},
   "outputs": [
    {
     "data": {
      "text/plain": [
       "'Hello from Child'"
      ]
     },
     "execution_count": 4,
     "metadata": {},
     "output_type": "execute_result"
    }
   ],
   "source": [
    "c=child()\n",
    "c.show()"
   ]
  },
  {
   "cell_type": "code",
   "execution_count": 5,
   "id": "0b61f26c-c082-45a6-95ae-257ecc4f386f",
   "metadata": {},
   "outputs": [
    {
     "data": {
      "text/plain": [
       "'GoodBye'"
      ]
     },
     "execution_count": 5,
     "metadata": {},
     "output_type": "execute_result"
    }
   ],
   "source": [
    "c.bye()"
   ]
  },
  {
   "cell_type": "code",
   "execution_count": null,
   "id": "1e4dce05-1f72-4048-a181-ae5b8442acd9",
   "metadata": {},
   "outputs": [],
   "source": [
    "# in above example, show() in child overrides the other show() which was actully inherited from parent class"
   ]
  }
 ],
 "metadata": {
  "kernelspec": {
   "display_name": "Python 3 (ipykernel)",
   "language": "python",
   "name": "python3"
  },
  "language_info": {
   "codemirror_mode": {
    "name": "ipython",
    "version": 3
   },
   "file_extension": ".py",
   "mimetype": "text/x-python",
   "name": "python",
   "nbconvert_exporter": "python",
   "pygments_lexer": "ipython3",
   "version": "3.10.8"
  }
 },
 "nbformat": 4,
 "nbformat_minor": 5
}
