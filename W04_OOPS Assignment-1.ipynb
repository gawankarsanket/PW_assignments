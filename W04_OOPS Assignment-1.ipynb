{
 "cells": [
  {
   "cell_type": "code",
   "execution_count": 4,
   "id": "892d6712-ce24-421a-84b3-bdbf52a2f41b",
   "metadata": {},
   "outputs": [],
   "source": [
    "# Q1. Explain Class and Object with respect to Object-Oriented Programming. Give a suitable example.\n",
    "\n",
    "\n",
    "# Classes and Object are fundamental concepts of  Object oriented programming.\n",
    "# Classes are template or blueprint that defines variable and methods. \n",
    "\n",
    "#Objects are instance of the class. \n",
    "#Once Object is created, the copy of classes variable and method get applied to the objet\n",
    "\n",
    "#example\n",
    "\n",
    "\n",
    "class student:\n",
    "    \n",
    "    def __init__(self,name,number,batch):\n",
    "        self.name=name\n",
    "        self.number=number\n",
    "        self.batch=batch\n",
    "        \n",
    "    def st_details(self):\n",
    "        return self.name,self.number,self.batch\n",
    "    \n",
    "s1=student('Sanket',101,'DSA')\n",
    "s2=student('Kiran',102,'Devops')\n",
    "\n"
   ]
  },
  {
   "cell_type": "code",
   "execution_count": 6,
   "id": "c945fd94-438f-42d9-a48e-a557553a2f30",
   "metadata": {},
   "outputs": [
    {
     "data": {
      "text/plain": [
       "('Sanket', 101, 'DSA')"
      ]
     },
     "execution_count": 6,
     "metadata": {},
     "output_type": "execute_result"
    }
   ],
   "source": [
    "s1.st_details()"
   ]
  },
  {
   "cell_type": "code",
   "execution_count": 7,
   "id": "4b9ac7f1-c996-4faa-89f6-04aceb4687c9",
   "metadata": {},
   "outputs": [
    {
     "data": {
      "text/plain": [
       "('Kiran', 102, 'Devops')"
      ]
     },
     "execution_count": 7,
     "metadata": {},
     "output_type": "execute_result"
    }
   ],
   "source": [
    "s2.st_details()"
   ]
  },
  {
   "cell_type": "code",
   "execution_count": 8,
   "id": "07eda959-698f-4ee6-8838-41afd7197fa5",
   "metadata": {},
   "outputs": [],
   "source": [
    "#Q2 Name the four pillars of OOPs.\n",
    "\n",
    "\"\"\"\n",
    "1. Polymorphism\n",
    "2. Inheritance\n",
    "3. Encapsulations\n",
    "4. Abstraction\n",
    "\n",
    "1. Polymorphism : Poly - Multiple/different  Morphism- Forms\n",
    "Polymorphism means the ability of objects to take on different forms or\n",
    "behaviors based on the context. In OOP, polymorphism allows objects of different classes\n",
    "to be treated as objects of a common superclass.\n",
    "\n",
    "2. Inheritance  : Its mechanism by which class properties gets transferred from base class to derived class.\n",
    "This is kind of  parent child relationship. All methods and varibles of parent class are acceesible \n",
    "to the object of child class\n",
    "\n",
    "3. Encapsulations : Variables and methods of class are not accessible to external attributes.\n",
    "Only object of that class can access them.\n",
    "\n",
    "4. Abstraction : Abstraction allows the creation of abstract classes and interfaces that define the common \n",
    "structure and behavior for a set of related objects. It helps in managing complexity, promoting code \n",
    "reusability, and providing a high-level view of the system.\n",
    "These four pillars of OOP work together to provide a comprehensive and modular approach to software development,\n",
    "allowing for code organization, reuse, extensibility, and maintainability.\n",
    "\n",
    "\"\"\""
   ]
  },
  {
   "cell_type": "code",
   "execution_count": 1,
   "id": "10841b88-a326-44b6-a04d-5961e5da54bc",
   "metadata": {},
   "outputs": [],
   "source": [
    "#Q3. Explain why the __init__() function is used. Give a suitable example.\n",
    "\n",
    "\"\"\"\n",
    "The __init__() function is a special method in Python classes that is automatically called \n",
    "when an object is created from a class. It is also known as the constructor method. \n",
    "The primary purpose of the __init__() function is to initialize the attributes of an object \n",
    "and set its initial state.\n",
    "\n",
    "When a class is instantiated, the __init__() method is called, allowing you to define the initial values \n",
    "for the object's attributes.\n",
    "\n",
    "example:\n",
    "    \n",
    "\"\"\"\n",
    "class student:\n",
    "    \n",
    "    def __init__(self,name,number,batch):\n",
    "        self.name=name\n",
    "        self.number=number\n",
    "        self.batch=batch\n",
    "        \n",
    "    def st_details(self):\n",
    "        return self.name,self.number,self.batch\n",
    "    \n",
    "s1=student('Sanket',101,'DSA')\n",
    "s2=student('Kiran',102,'Devops')\n",
    "        "
   ]
  },
  {
   "cell_type": "code",
   "execution_count": 2,
   "id": "d7d46051-c4a8-465e-b7e5-3d5b996b1fec",
   "metadata": {},
   "outputs": [
    {
     "data": {
      "text/plain": [
       "('Sanket', 101, 'DSA')"
      ]
     },
     "execution_count": 2,
     "metadata": {},
     "output_type": "execute_result"
    }
   ],
   "source": [
    "s1.st_details()"
   ]
  },
  {
   "cell_type": "code",
   "execution_count": 3,
   "id": "c2ed717b-c3cc-4dd5-b10c-19b11d90e1b7",
   "metadata": {},
   "outputs": [],
   "source": [
    "#Q4. Why self is used in OOPs?\n",
    "\n",
    "\"\"\"\n",
    "In OOP, the self parameter is used to refer to the instance of a class within its own methods.\n",
    "It acts as a reference to the current object or instance on which a method is being called. \n",
    "The self parameter allows you to access the attributes and methods of the class within its own scope.\n",
    "eg\n",
    "\"\"\"\n",
    "\n",
    "\n",
    "class student:\n",
    "    \n",
    "    def __init__(self,name,number,batch):\n",
    "        self.name=name\n",
    "        self.number=number\n",
    "        self.batch=batch\n",
    "        \n",
    "    def st_details(self):\n",
    "        return self.name,self.number,self.batch"
   ]
  },
  {
   "cell_type": "code",
   "execution_count": null,
   "id": "c267b775-c603-4ee5-94db-3a33e1fb94a7",
   "metadata": {},
   "outputs": [],
   "source": [
    "#Q5. What is inheritance? Give an example for each type of inheritance.\n",
    "\n",
    "\"\"\"\n",
    "Inheritance is a fundamental concept in object-oriented programming (OOP) that allows a class to inherit\n",
    "attributes and methods from another class. The class that inherits is called the \"child\" or \"derived\" class,\n",
    "and the class from which it inherits is called the \"parent\" or \"base\" class. \n",
    "Inheritance promotes code reusability, modularity, and the creation of hierarchical relationships \n",
    "between classes\n",
    "\"\"\"\n",
    "\n",
    "\n",
    "\n",
    "\n"
   ]
  },
  {
   "cell_type": "code",
   "execution_count": 7,
   "id": "0f0f5ede-e607-4501-9338-261e852263e5",
   "metadata": {},
   "outputs": [
    {
     "data": {
      "text/plain": [
       "'hello from class2'"
      ]
     },
     "execution_count": 7,
     "metadata": {},
     "output_type": "execute_result"
    }
   ],
   "source": [
    "\"\"\"\n",
    "Multiple Inheritance: Multiple inheritance allows a class to inherit attributes and methods\n",
    "from multiple parent classes. It allows a class to combine features from different classes.\n",
    "\n",
    " C1>>C3 and    C2>>C3\n",
    "\"\"\"\n",
    "\n",
    "\n",
    "\n",
    "class CLS1:\n",
    "    def test_cls1(self):\n",
    "        return \"hello from Class1\"\n",
    "\n",
    "class CLS2:\n",
    "    def test_cls2(self):\n",
    "        return \"hello from class2\"\n",
    "    \n",
    "class CLS3(CLS1,CLS2):\n",
    "    pass\n",
    "\n",
    "cls3=CLS3()\n",
    "cls3.test_cls1()\n",
    "cls3.test_cls2()"
   ]
  },
  {
   "cell_type": "code",
   "execution_count": 8,
   "id": "0907445e-7fd3-48b7-a605-ad8511a73583",
   "metadata": {},
   "outputs": [],
   "source": [
    "\"\"\"\n",
    "2. Multilevel Inheritance: Multilevel inheritance involves a chain of inheritance where a derived class \n",
    "inherits from a parent class, and that derived class can further act as a parent class for \n",
    "another derived class. \n",
    " class1 >> class2 >> Class3\n",
    " \"\"\"\n",
    "\n",
    "\n",
    "class CLS1:\n",
    "    def test_cls1(self):\n",
    "        return \"hello from Class1\"\n",
    "\n",
    "class CLS2 (CLS1):\n",
    "    def test_cls2(self):\n",
    "        return \"hello from class2\"\n",
    "    \n",
    "class CLS3(CLS2):\n",
    "    pass\n",
    "\n"
   ]
  },
  {
   "cell_type": "code",
   "execution_count": 10,
   "id": "982015ff-79fa-4386-8256-d589e88caf10",
   "metadata": {},
   "outputs": [
    {
     "data": {
      "text/plain": [
       "'hello from class2'"
      ]
     },
     "execution_count": 10,
     "metadata": {},
     "output_type": "execute_result"
    }
   ],
   "source": [
    "c3=CLS3()\n",
    "c3.test_cls1()\n",
    "c3.test_cls2()"
   ]
  },
  {
   "cell_type": "code",
   "execution_count": null,
   "id": "604222a0-8db6-4352-a28a-7411b3536dbd",
   "metadata": {},
   "outputs": [],
   "source": [
    "\"\"\"\n",
    "3. Hierarchical Inheritance: Hierarchical inheritance involves multiple derived classes inheriting from a \n",
    "single base class.\n",
    "\n",
    "C1 >> C2  , C1>> C3,  C1>> C4  etc\n",
    "\"\"\""
   ]
  },
  {
   "cell_type": "code",
   "execution_count": null,
   "id": "eed3919f-9f70-4106-b33f-d91b4b942fd0",
   "metadata": {},
   "outputs": [],
   "source": [
    "\"\"\"\n",
    "4. Hybrid Inheritance: Hybrid inheritance is a combination of multiple types of inheritance, \n",
    "such as single inheritance, multiple inheritance, or multilevel inheritance.\n",
    "\n",
    "C1>> C2  ,  C2 >> C3   , C2 >> C4 ,  C1>> C5  C5>>C6\n"
   ]
  }
 ],
 "metadata": {
  "kernelspec": {
   "display_name": "Python 3 (ipykernel)",
   "language": "python",
   "name": "python3"
  },
  "language_info": {
   "codemirror_mode": {
    "name": "ipython",
    "version": 3
   },
   "file_extension": ".py",
   "mimetype": "text/x-python",
   "name": "python",
   "nbconvert_exporter": "python",
   "pygments_lexer": "ipython3",
   "version": "3.10.8"
  }
 },
 "nbformat": 4,
 "nbformat_minor": 5
}
