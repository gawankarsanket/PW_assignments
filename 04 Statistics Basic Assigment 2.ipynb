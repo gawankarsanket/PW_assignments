{
 "cells": [
  {
   "cell_type": "code",
   "execution_count": null,
   "id": "5e6b7539-30cd-4901-8a48-18cd449e25a5",
   "metadata": {},
   "outputs": [],
   "source": [
    "#Q1. What are the three measures of central tendency?\n",
    "\n",
    "\"\"\"\n",
    "Mean  = an arithmatic average of datapoints\n",
    "Median = middle value when datapoints are arranged in a ascending or discending order.\n",
    "mode = More frequently occuring value in the dataset.\n",
    "\n",
    "\"\"\""
   ]
  },
  {
   "cell_type": "code",
   "execution_count": null,
   "id": "2ad9e912-2379-4147-83cb-1641c2553537",
   "metadata": {},
   "outputs": [],
   "source": [
    "# Q2. What is the difference between the mean, median, and mode? How are they used to measure the\n",
    "# central tendency of a dataset?\n",
    "\"\"\"\n",
    "Mean  = an arithmatic average of datapoints\n",
    "Median = middle value when datapoints are arranged in a ascending or discending order.\n",
    "mode = More frequently occuring value in the dataset.\n",
    "\n",
    "The three measures of central tendency (mean, median, and mode) are used to provide different perspectives\n",
    "on the central value of a dataset:\n",
    "\n",
    "If the data is relatively symmetrical and without extreme values, the mean is a good representation of the \n",
    "central tendency.\n",
    "If the data is skewed or has outliers, the median is a better measure, as it is not influenced by extreme \n",
    "values and gives a sense of the typical value.\n",
    "The mode is useful when identifying the most common value or category in the dataset.\n",
    "The choice of which measure to use depends on the nature of the data and the specific insights you want to\n",
    "gain from it. In practice, it is often a good idea to consider all three measures to get a comprehensive\n",
    "understanding of the central tendency of the dataset.\n",
    "\n",
    "\n",
    "\"\"\""
   ]
  },
  {
   "cell_type": "code",
   "execution_count": 4,
   "id": "fd96917c-7141-4666-af6b-0ebc849b5741",
   "metadata": {},
   "outputs": [],
   "source": [
    "#Q3. Measure the three measures of central tendency for the given height data:\n",
    "\n",
    "data= [178,177,176,177,178.2,178,175,179,180,175,178.9,176.2,177,172.5,178,176.5]"
   ]
  },
  {
   "cell_type": "code",
   "execution_count": 5,
   "id": "9e6a1fb5-02c8-4e38-b018-8fb626a10c6a",
   "metadata": {},
   "outputs": [],
   "source": [
    "import numpy as np\n"
   ]
  },
  {
   "cell_type": "code",
   "execution_count": 6,
   "id": "76704687-2628-4558-9ee2-3b78ad7eaa25",
   "metadata": {},
   "outputs": [
    {
     "data": {
      "text/plain": [
       "177.01875"
      ]
     },
     "execution_count": 6,
     "metadata": {},
     "output_type": "execute_result"
    }
   ],
   "source": [
    "np.mean(data)"
   ]
  },
  {
   "cell_type": "code",
   "execution_count": 7,
   "id": "6a814e5d-4453-4527-b94b-f9397a0481b1",
   "metadata": {},
   "outputs": [
    {
     "data": {
      "text/plain": [
       "177.0"
      ]
     },
     "execution_count": 7,
     "metadata": {},
     "output_type": "execute_result"
    }
   ],
   "source": [
    "np.median(data)"
   ]
  },
  {
   "cell_type": "code",
   "execution_count": 9,
   "id": "0fe73f8c-8609-4452-9695-b6afc4a96dc9",
   "metadata": {},
   "outputs": [
    {
     "name": "stderr",
     "output_type": "stream",
     "text": [
      "/tmp/ipykernel_1971/2800027621.py:2: FutureWarning: Unlike other reduction functions (e.g. `skew`, `kurtosis`), the default behavior of `mode` typically preserves the axis it acts along. In SciPy 1.11.0, this behavior will change: the default value of `keepdims` will become False, the `axis` over which the statistic is taken will be eliminated, and the value None will no longer be accepted. Set `keepdims` to True or False to avoid this warning.\n",
      "  stats.mode(data)\n"
     ]
    },
    {
     "data": {
      "text/plain": [
       "ModeResult(mode=array([177.]), count=array([3]))"
      ]
     },
     "execution_count": 9,
     "metadata": {},
     "output_type": "execute_result"
    }
   ],
   "source": [
    "from scipy import stats\n",
    "stats.mode(data)"
   ]
  },
  {
   "cell_type": "code",
   "execution_count": 10,
   "id": "b4862ad6-568b-4b2b-a39c-60112f7c2464",
   "metadata": {},
   "outputs": [],
   "source": [
    "#Q4. Find the standard deviation for the given data:\n",
    "\n",
    "d1=[178,177,176,177,178.2,178,175,179,180,175,178.9,176.2,177,172.5,178,176.5]"
   ]
  },
  {
   "cell_type": "code",
   "execution_count": 11,
   "id": "e0ce689b-7804-4cd1-83bd-163e0b3b8308",
   "metadata": {},
   "outputs": [
    {
     "data": {
      "text/plain": [
       "1.7885814036548633"
      ]
     },
     "execution_count": 11,
     "metadata": {},
     "output_type": "execute_result"
    }
   ],
   "source": [
    "np.std(d1)"
   ]
  },
  {
   "cell_type": "code",
   "execution_count": null,
   "id": "484f8bb6-4dee-425a-94db-486e7a9a5724",
   "metadata": {},
   "outputs": [],
   "source": [
    "#Q5. How are measures of dispersion such as range, variance, and standard deviation used to describe\n",
    "# the spread of a dataset? Provide an example.\n",
    "\n",
    "\"\"\"\n",
    "Measures of dispersion, such as range, variance, and standard deviation, are used to quantify the spread or\n",
    "variability of a dataset. They provide valuable information about how the data points are distributed around\n",
    "the central value (mean or median). Understanding the spread of the data is crucial in analyzing and \n",
    "interpreting datasets.\n",
    "\n",
    "Range:\n",
    "   The range is the simplest measure of dispersion and represents the difference between the maximum and minimum \n",
    "   values in a dataset.\n",
    "   The range gives a basic idea of the spread of the data. However, it is sensitive to outliers and may not fully \n",
    "   capture the distribution's characteristics.\n",
    "   \n",
    "   Example: Consider the following dataset representing the ages of ten individuals (in years):\n",
    "[25, 30, 28, 26, 32, 27, 29, 24, 31, 35]\n",
    "\n",
    "Range = Maximum value - Minimum value = 35 - 24 = 11\n",
    "The range in this case is 11, indicating that the ages vary by 11 years.\n",
    "\n",
    "Variance:\n",
    "         Variance measures the average squared deviation of each data point from the mean. It quantifies \n",
    "         how spread out the data points are around the mean.\n",
    "         Variance provides a more comprehensive measure of the spread, considering all data points and their \n",
    "         distances from the mean. A higher variance indicates greater variability.\n",
    "         \n",
    "         Example: Using the same dataset of ages, let's calculate the variance:\n",
    "         \n",
    "         Mean = (25 + 30 + 28 + 26 + 32 + 27 + 29 + 24 + 31 + 35) / 10 = 29.7 (approximately)\n",
    "         Variance = [(25 - 29.7)² + (30 - 29.7)² + ... + (35 - 29.7)²] / 10 ≈ 18.66\n",
    "         \n",
    "         The variance is approximately 18.66, representing the average squared deviation from the mean.\n",
    "\n",
    "Standard Deviation:\n",
    "        The standard deviation is the square root of the variance. It provides a more interpretable measure of \n",
    "        spread in the same units as the original data.\n",
    "        The standard deviation is widely used as a measure of spread due to its direct comparability with the \n",
    "        original data. A larger standard deviation indicates higher variability.\n",
    "        \n",
    "        Example: Using the same dataset of ages, let's calculate the standard deviation:\n",
    "        Standard Deviation ≈ sqrt(18.66) ≈ 4.32 (approximately)\n",
    "\n",
    "The standard deviation is approximately 4.32 years, representing the spread of ages around the mean.\n",
    "\n",
    "In summary, measures of dispersion such as range, variance, and standard deviation are used to quantify the \n",
    "spread or variability of a dataset. They provide valuable information about the distribution of data points \n",
    "around the central value, helping in analyzing and interpreting datasets more comprehensively.\n",
    "\"\"\""
   ]
  },
  {
   "cell_type": "code",
   "execution_count": null,
   "id": "53b39c38-b228-4044-a156-8f84272ef261",
   "metadata": {},
   "outputs": [],
   "source": [
    "# Q6. What is a Venn diagram?\n",
    "\n",
    "\"\"\"\n",
    "A Venn diagram is a graphical representation used to show the relationships and similarities between different \n",
    "sets or groups of items. It consists of overlapping circles or ellipses, each representing a set, and the areas\n",
    "of overlap show the elements that are common to multiple sets.\n",
    "\n",
    "\"\"\"\n"
   ]
  },
  {
   "cell_type": "code",
   "execution_count": null,
   "id": "e680238c-3b8d-46e5-badf-2bada28ac600",
   "metadata": {},
   "outputs": [],
   "source": [
    "# Q7. For the two given sets A = (2,3,4,5,6,7) & B = (0,2,6,8,10). Find:\n",
    "\n",
    "\"\"\"\n",
    "(i) A intersection  B   = (2,6)   #CommonElement\n",
    "(ii) A ⋃nion B  = (0,2,3,4,5,6,7,8,10)   # all element"
   ]
  },
  {
   "cell_type": "code",
   "execution_count": null,
   "id": "944692ce-a310-4b58-8fe7-9e3db964c36c",
   "metadata": {},
   "outputs": [],
   "source": [
    "#Q8. What do you understand about skewness in data?\n",
    "\n",
    "\"\"\"\n",
    "\n",
    "Skewness is a statistical measure that describes the asymmetry of the probability distribution of a dataset.\n",
    "It indicates the degree to which the data is skewed or \"lopsided\" from a symmetrical distribution. A symmetrical \n",
    "distribution has equal probabilities on both sides of its central value (mean or median), whereas a skewed \n",
    "distribution has a longer tail on one side, causing it to be shifted to one direction.\n",
    "\n",
    "\"\"\"\""
   ]
  },
  {
   "cell_type": "code",
   "execution_count": null,
   "id": "bcefa586-e213-456e-a6e3-62d71402e0c0",
   "metadata": {},
   "outputs": [],
   "source": [
    "#Q9. If a data is right skewed then what will be the position of median with respect to mean?\n",
    "\n",
    "\"\"\"\n",
    "In a Right OR positively skewed distribution, the tail of the distribution extends to the right,\n",
    "while the majority of the data is concentrated on the left side. The mean is typically greater\n",
    "than the median in positively skewed data.\n",
    "mode <Median<mean"
   ]
  },
  {
   "cell_type": "code",
   "execution_count": null,
   "id": "bff5227c-346c-43a2-8dfd-104f6f9c9f38",
   "metadata": {},
   "outputs": [],
   "source": [
    "# Q10. Explain the difference between covariance and correlation. How are these measures used in\n",
    "# statistical analysis?\n",
    "\n",
    "\"\"\"\n",
    "\n",
    "Covariance and correlation are both measures used to describe the relationship between two variables \n",
    "in statistical analysis. While they are related concepts, they have distinct interpretations and applications.\n",
    "\n",
    "Covariance:\n",
    "Covariance is a measure of the joint variability of two random variables. It quantifies how the two variables\n",
    "change together. A positive covariance indicates that the variables tend to increase or decrease together, \n",
    "while a negative covariance indicates that one variable tends to increase when the other decreases.\n",
    "\n",
    "Correlation:\n",
    "Correlation is a standardized measure of the relationship between two variables. \n",
    "It expresses the strength and direction of the linear relationship between the variables on a scale from -1 to 1. \n",
    "A correlation coefficient of 1 indicates a perfect positive linear relationship, -1 indicates a perfect negative \n",
    "linear relationship, and 0 indicates no linear relationship.\n",
    "\n",
    "\"\"\""
   ]
  },
  {
   "cell_type": "code",
   "execution_count": null,
   "id": "f94647bf-cbcd-44db-b059-e764f4e2034f",
   "metadata": {},
   "outputs": [],
   "source": [
    "# Q11. What is the formula for calculating the sample mean? Provide an example calculation for a dataset.\n",
    "\n",
    "\"\"\"\n",
    "Its simply avg of datapoints\n",
    "Let's consider a dataset of 5 exam scores: 85, 90, 78, 92, 88.\n",
    "\n",
    "To calculate the sample mean:\n",
    "\n",
    "(85+90+78+92+88)/5 = 86.6"
   ]
  },
  {
   "cell_type": "code",
   "execution_count": null,
   "id": "5ff639ef-db0c-4d18-bab2-47b2cdde001d",
   "metadata": {},
   "outputs": [],
   "source": [
    "# Q12. For a normal distribution data what is the relationship between its measure of central tendency?\n",
    "\n",
    "\"\"\"\n",
    "Mean=Median=Mode\n",
    "in a normal distribution, the mean, median, and mode are all the same value,\n",
    "representing the central tendency of the data"
   ]
  },
  {
   "cell_type": "code",
   "execution_count": null,
   "id": "0247efc6-f44d-40ac-8508-ec6cdba63099",
   "metadata": {},
   "outputs": [],
   "source": [
    "# Q13. How is covariance different from correlation?\n",
    "\"\"\"\n",
    "\n",
    "Covariance and correlation are both measures used to describe the relationship between two variables \n",
    "in statistical analysis. While they are related concepts, they have distinct interpretations and applications.\n",
    "\n",
    "Covariance:\n",
    "Covariance is a measure of the joint variability of two random variables. It quantifies how the two variables\n",
    "change together. A positive covariance indicates that the variables tend to increase or decrease together, \n",
    "while a negative covariance indicates that one variable tends to increase when the other decreases.\n",
    "\n",
    "Correlation:\n",
    "Correlation is a standardized measure of the relationship between two variables. \n",
    "It expresses the strength and direction of the linear relationship between the variables on a scale from -1 to 1. \n",
    "A correlation coefficient of 1 indicates a perfect positive linear relationship, -1 indicates a perfect negative \n",
    "linear relationship, and 0 indicates no linear relationship.\n",
    "\n",
    "\"\"\""
   ]
  },
  {
   "cell_type": "code",
   "execution_count": 12,
   "id": "3225a66f-09ae-4bde-8d9f-3a8e8e53c467",
   "metadata": {},
   "outputs": [
    {
     "data": {
      "text/plain": [
       "''"
      ]
     },
     "execution_count": 12,
     "metadata": {},
     "output_type": "execute_result"
    }
   ],
   "source": [
    "#Q14. How do outliers affect measures of central tendency and dispersion? Provide an example.\n",
    "\"\"\"\n",
    "Take example \n",
    "score=[21,22,23,20,22,23,21]  \n",
    "for this\n",
    "mean= 21.71\n",
    "variance=1.06\n",
    "\n",
    "Now if there outlier  say 40 in the datasent  \n",
    "score1=[21,22,23,20,22,23,21,40]\n",
    "\n",
    "mean = 24\n",
    "variance=37.5\n",
    "See the deviation"
   ]
  },
  {
   "cell_type": "code",
   "execution_count": 16,
   "id": "9b11f098-2162-4d3c-bffb-a3c0f665f11c",
   "metadata": {},
   "outputs": [],
   "source": [
    "score1=[21,22,23,20,22,23,21,40]"
   ]
  },
  {
   "cell_type": "code",
   "execution_count": 17,
   "id": "2b3ee810-ab61-48e1-920a-c6384f33b8cd",
   "metadata": {},
   "outputs": [
    {
     "data": {
      "text/plain": [
       "24.0"
      ]
     },
     "execution_count": 17,
     "metadata": {},
     "output_type": "execute_result"
    }
   ],
   "source": [
    "import numpy as np\n",
    "np.mean(score1)"
   ]
  },
  {
   "cell_type": "code",
   "execution_count": 18,
   "id": "eff40bb1-8aef-482c-8312-ec89d80a1901",
   "metadata": {},
   "outputs": [
    {
     "data": {
      "text/plain": [
       "37.5"
      ]
     },
     "execution_count": 18,
     "metadata": {},
     "output_type": "execute_result"
    }
   ],
   "source": [
    "np.var(score1)"
   ]
  },
  {
   "cell_type": "code",
   "execution_count": null,
   "id": "da55a69e-69e4-4d40-8da9-7efcdb6db00b",
   "metadata": {},
   "outputs": [],
   "source": []
  }
 ],
 "metadata": {
  "kernelspec": {
   "display_name": "Python 3 (ipykernel)",
   "language": "python",
   "name": "python3"
  },
  "language_info": {
   "codemirror_mode": {
    "name": "ipython",
    "version": 3
   },
   "file_extension": ".py",
   "mimetype": "text/x-python",
   "name": "python",
   "nbconvert_exporter": "python",
   "pygments_lexer": "ipython3",
   "version": "3.10.8"
  }
 },
 "nbformat": 4,
 "nbformat_minor": 5
}
