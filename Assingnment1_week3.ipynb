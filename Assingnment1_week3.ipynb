{
 "cells": [
  {
   "cell_type": "code",
   "execution_count": 49,
   "id": "1d3c1aa1-1de0-4e16-a04d-73a59069c5b5",
   "metadata": {},
   "outputs": [
    {
     "data": {
      "text/plain": [
       "[1, 3, 5, 7, 9, 11, 13, 15, 17, 19, 21, 23, 25]"
      ]
     },
     "execution_count": 49,
     "metadata": {},
     "output_type": "execute_result"
    }
   ],
   "source": [
    "#Q1. Which keyword is used to create a function? Create a function to return a list of odd numbers in the\n",
    "#range of 1 to 25.\n",
    "\n",
    "# def <FunctionName>():\n",
    "\n",
    "def odd():\n",
    "    odd_list=[]\n",
    "    i=1\n",
    "    while i<=25:\n",
    "        if i%2!=0:\n",
    "            odd_list.append(i)\n",
    "        i=i+1\n",
    "    return odd_list\n",
    "\n",
    "odd()\n",
    "    "
   ]
  },
  {
   "cell_type": "code",
   "execution_count": 50,
   "id": "8cb70beb-9882-4351-a360-6fdb179ae4d1",
   "metadata": {},
   "outputs": [],
   "source": [
    "#Q2. Why *args and **kwargs is used in some functions? Create a function each for *args and **kwargs\n",
    "#to demonstrate their use.\n",
    "\n",
    "#When number of arguments to be passed to the fuction is not fixed, in that situation, '*args' or '*kwargs can be used.\n",
    "#Meaning any number of arguments will be accepted by the fuctions.\n",
    "\n",
    "#'*arg'  collects  arguments in tuple type.\n",
    "#'*kwrgs collects arguments in dict type.\n",
    "\n",
    "def student_list(*args):\n",
    "    return args\n",
    " #(name,id,numberof pending exam)\n",
    "s1=student_list('Ramesh',101,2)\n",
    "s2=student_list('Suresh',102)"
   ]
  },
  {
   "cell_type": "code",
   "execution_count": 51,
   "id": "4a5e7d4f-0572-47f4-aa4c-9cdd44736a73",
   "metadata": {},
   "outputs": [
    {
     "data": {
      "text/plain": [
       "('Ramesh', 101, 2)"
      ]
     },
     "execution_count": 51,
     "metadata": {},
     "output_type": "execute_result"
    }
   ],
   "source": [
    "s1"
   ]
  },
  {
   "cell_type": "code",
   "execution_count": 52,
   "id": "3558b0eb-7a3c-4f16-8a61-60b3377bc27a",
   "metadata": {},
   "outputs": [
    {
     "data": {
      "text/plain": [
       "('Suresh', 102)"
      ]
     },
     "execution_count": 52,
     "metadata": {},
     "output_type": "execute_result"
    }
   ],
   "source": [
    "s2"
   ]
  },
  {
   "cell_type": "code",
   "execution_count": 14,
   "id": "02b478ac-3897-4390-8a51-040cd2ab594b",
   "metadata": {},
   "outputs": [],
   "source": [
    "#when **kwargs is used, the output is in dict type "
   ]
  },
  {
   "cell_type": "code",
   "execution_count": 53,
   "id": "4e49e791-559b-413e-a34d-8bafc2b0a193",
   "metadata": {},
   "outputs": [],
   "source": [
    "def student1_list(**kwargs):\n",
    "    return kwargs\n",
    " #(name,id,numberof pending exam)\n",
    "s3=student1_list(name='Ramesh',id=101,pending_exam=2)\n",
    "s4=student1_list(name='Suresh',id=102)"
   ]
  },
  {
   "cell_type": "code",
   "execution_count": 54,
   "id": "9700311e-7e6c-4fbf-b1a6-cbbb2705ccc6",
   "metadata": {},
   "outputs": [
    {
     "data": {
      "text/plain": [
       "{'name': 'Ramesh', 'id': 101, 'pending_exam': 2}"
      ]
     },
     "execution_count": 54,
     "metadata": {},
     "output_type": "execute_result"
    }
   ],
   "source": [
    "s3"
   ]
  },
  {
   "cell_type": "code",
   "execution_count": 55,
   "id": "2ad71929-1287-4cd3-b789-2ef5e182c95c",
   "metadata": {},
   "outputs": [
    {
     "data": {
      "text/plain": [
       "{'name': 'Suresh', 'id': 102}"
      ]
     },
     "execution_count": 55,
     "metadata": {},
     "output_type": "execute_result"
    }
   ],
   "source": [
    "s4"
   ]
  },
  {
   "cell_type": "code",
   "execution_count": 1,
   "id": "1bb5ba57-fa46-4c27-9a9f-8f1860235c54",
   "metadata": {},
   "outputs": [
    {
     "name": "stdout",
     "output_type": "stream",
     "text": [
      "2\n",
      "4\n",
      "6\n",
      "8\n",
      "10\n",
      "12\n"
     ]
    }
   ],
   "source": [
    "#Q3. What is an iterator in python? Name the method used to initialise the iterator object and the method\n",
    "#used for iteration. Use these methods to print the first five elements of the given list [2, 4, 6, 8, 10, 12, 14,\n",
    "#16, 18, 20].\n",
    "\n",
    "# Iterator is used to iterate over the iterable object.\n",
    "#iter() is the method converts object into iterable. next() is used to jump to next value sotred \n",
    "#inside that iterable.\n",
    "\n",
    "lst=[2, 4, 6, 8, 10, 12, 14,16, 18, 20]\n",
    "iterable_list=iter(lst)     #Converting list into iterable object\n",
    "for i in range(6):\n",
    "    print(next(iterable_list))\n"
   ]
  },
  {
   "cell_type": "code",
   "execution_count": 28,
   "id": "c68f2b6b-3837-469a-af31-bc4657b333ae",
   "metadata": {},
   "outputs": [],
   "source": [
    "#Q4. What is a generator function in python? Why yield keyword is used? Give an example of a generator\n",
    "#function.\n",
    "\n",
    "#Generator is a function that produces sequence of values that is stored in the  iterable object\n",
    "# Generators are used to produce the long sequense of list without need to storing them in memory at once.\n",
    "\n",
    "# Yield is  used in Python generators. when generator generates the value, yeild stores it to iterable object \n",
    "#rather than return. \n",
    "#the nulber of times yeild is executed in the function, that many number of iterative values are stored in \n",
    "#the object\n",
    "#example Fibonnaci series. We can create n number of list of Fibbonaci series."
   ]
  },
  {
   "cell_type": "code",
   "execution_count": 9,
   "id": "ce147015-efdd-4a15-97f7-267d7532124d",
   "metadata": {},
   "outputs": [
    {
     "name": "stdout",
     "output_type": "stream",
     "text": [
      "0\n",
      "1\n",
      "1\n",
      "2\n",
      "3\n",
      "5\n"
     ]
    }
   ],
   "source": [
    "def fib(n):\n",
    "    a,b=0,1\n",
    "    for i in range(n):\n",
    "        yield a\n",
    "        a,b=b,a+b\n",
    "\n",
    "for i in fib(6):\n",
    "    print(i)"
   ]
  },
  {
   "cell_type": "code",
   "execution_count": 74,
   "id": "eb2ca0b9-6f9d-42fd-9b06-b55bbd26c5dc",
   "metadata": {},
   "outputs": [
    {
     "name": "stdout",
     "output_type": "stream",
     "text": [
      "<class 'generator'>\n",
      "0 is prime\n",
      "0\n",
      "1 is prime\n",
      "1\n",
      "2 is prime\n",
      "2\n",
      "3 is prime\n",
      "3\n",
      "4 is not prime\n"
     ]
    },
    {
     "ename": "StopIteration",
     "evalue": "",
     "output_type": "error",
     "traceback": [
      "\u001b[0;31m---------------------------------------------------------------------------\u001b[0m",
      "\u001b[0;31mStopIteration\u001b[0m                             Traceback (most recent call last)",
      "Cell \u001b[0;32mIn[74], line 25\u001b[0m\n\u001b[1;32m     23\u001b[0m \u001b[38;5;28;01mfor\u001b[39;00m i \u001b[38;5;129;01min\u001b[39;00m \u001b[38;5;28mrange\u001b[39m(\u001b[38;5;241m1000\u001b[39m):\n\u001b[1;32m     24\u001b[0m     p\u001b[38;5;241m=\u001b[39mprime_checker(i)\n\u001b[0;32m---> 25\u001b[0m     \u001b[38;5;28mprint\u001b[39m(\u001b[38;5;28;43mnext\u001b[39;49m\u001b[43m(\u001b[49m\u001b[43mp\u001b[49m\u001b[43m)\u001b[49m)\n\u001b[1;32m     27\u001b[0m \u001b[38;5;124;03m\"\"\" NOT SURE WHAT IS GOING WRONG, PLEASE ASSIST WITH CORRECTION NEEDED \"\"\"\u001b[39;00m\n",
      "\u001b[0;31mStopIteration\u001b[0m: "
     ]
    }
   ],
   "source": [
    "#Q5. Create a generator function for prime numbers less than 1000. Use the next() method to print the\n",
    "# first 20 prime numbers.\n",
    "\n",
    "def prime_checker(n):\n",
    "    f=0\n",
    "    for i in range(2,n):\n",
    "        if n%i==0:\n",
    "            f=f+1\n",
    "            break\n",
    "        else:\n",
    "            continue\n",
    "    if f==0:\n",
    "        print(\"{} is prime\".format(n))\n",
    "        yield n\n",
    "    else:\n",
    "        print(\"{} is not prime\".format(n))\n",
    "\n",
    "\n",
    "\n",
    "\n",
    "\n",
    "print(type(p))\n",
    "for i in range(20):\n",
    "    p=prime_checker(i)\n",
    "    print(next(p))\n",
    "    \n",
    "\"\"\" NOT SURE WHAT IS GOING WRONG, PLEASE ASSIST WITH CORRECTION NEEDED \"\"\"\n",
    "\n"
   ]
  },
  {
   "cell_type": "code",
   "execution_count": 75,
   "id": "fb21a2bd-fc63-457e-86e0-941105f7dfcd",
   "metadata": {},
   "outputs": [],
   "source": [
    "#Q6. Write a python program to print the first 10 Fibonacci numbers using a while loop."
   ]
  },
  {
   "cell_type": "code",
   "execution_count": 3,
   "id": "37555264-dedf-439a-9f82-8dab76a2408d",
   "metadata": {},
   "outputs": [
    {
     "name": "stdout",
     "output_type": "stream",
     "text": [
      "0\n",
      "1\n",
      "1\n",
      "2\n",
      "3\n",
      "5\n",
      "8\n",
      "13\n",
      "21\n",
      "34\n"
     ]
    }
   ],
   "source": [
    "def fib():\n",
    "    a, b = 0, 1\n",
    "    cntr = 0\n",
    "    \n",
    "    while cntr < 10:\n",
    "        print(a)\n",
    "        a,b=b,a+b\n",
    "        cntr += 1\n",
    "\n",
    "\n",
    "\n",
    "fib()"
   ]
  },
  {
   "cell_type": "code",
   "execution_count": 30,
   "id": "cd1558bb-6dd6-4914-9635-5fce2a0bb27b",
   "metadata": {},
   "outputs": [
    {
     "name": "stdout",
     "output_type": "stream",
     "text": [
      "['p', 'w', 's', 'k', 'i', 'l', 'l', 's']\n"
     ]
    }
   ],
   "source": [
    "#Q7. Write a List Comprehension to iterate through the given string: ‘pwskills’.\n",
    "# Expected output: ['p', 'w', 's', 'k', 'i', 'l', 'l', 's']\n",
    "\n",
    "str1='pwskills'\n",
    "\n",
    "op=[char for char in str1]\n",
    "\n",
    "print(op)\n",
    "\n",
    "\n"
   ]
  },
  {
   "cell_type": "code",
   "execution_count": null,
   "id": "1c6dec85-3fcf-479c-8d9c-63d2e179d4ff",
   "metadata": {},
   "outputs": [],
   "source": [
    "#Q8. Write a python program to check whether a given number is Palindrome or not using a while loop.\n",
    "\n",
    "#Palindrome means even if digits of number are written in reverse oder it gives same number. eg 121, 4224 etc\n",
    "\n",
    "\n",
    "def reverse(num):\n",
    "    rev_num=0\n",
    "    while num>0:\n",
    "        n1=num%10\n",
    "        rev_num=(rev_num*10)+n1\n",
    "        num=num//10\n",
    "    return rev_num\n",
    "\n",
    "\n",
    "n=int(input(\"Enter a number: \"))\n",
    "r_num=reverse(n)\n",
    "print(\"reverse number is \",r_num)\n",
    "\n",
    "if n==r_num:\n",
    "    print('{} is pallindrome'.format(n))\n",
    "\n",
    "else:\n",
    "    print('{} is NOT pallindrome'.format(n))"
   ]
  },
  {
   "cell_type": "code",
   "execution_count": null,
   "id": "d72ce178-f8d5-4cca-93e3-f36d43657e1b",
   "metadata": {},
   "outputs": [],
   "source": [
    "#Q9. Write a code to print odd numbers from 1 to 100 using list comprehension.\n",
    "#Note: Use a list comprehension to create a list from 1 to 100 and use another List comprehension to filter\n",
    "#out odd numbers.\n",
    "\n",
    "num_lst=[int for int in range(10)]\n",
    "print(num_lst)"
   ]
  },
  {
   "cell_type": "code",
   "execution_count": null,
   "id": "50c549ed-e325-4216-9de6-2935875db656",
   "metadata": {},
   "outputs": [],
   "source": []
  }
 ],
 "metadata": {
  "kernelspec": {
   "display_name": "Python 3 (ipykernel)",
   "language": "python",
   "name": "python3"
  },
  "language_info": {
   "codemirror_mode": {
    "name": "ipython",
    "version": 3
   },
   "file_extension": ".py",
   "mimetype": "text/x-python",
   "name": "python",
   "nbconvert_exporter": "python",
   "pygments_lexer": "ipython3",
   "version": "3.10.8"
  }
 },
 "nbformat": 4,
 "nbformat_minor": 5
}
